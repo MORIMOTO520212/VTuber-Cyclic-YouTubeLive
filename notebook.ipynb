{
 "metadata": {
  "language_info": {
   "codemirror_mode": {
    "name": "ipython",
    "version": 3
   },
   "file_extension": ".py",
   "mimetype": "text/x-python",
   "name": "python",
   "nbconvert_exporter": "python",
   "pygments_lexer": "ipython3",
   "version": "3.6.5-final"
  },
  "orig_nbformat": 2,
  "kernelspec": {
   "name": "python_defaultSpec_1600390689003",
   "display_name": "Python 3.6.5 32-bit"
  }
 },
 "nbformat": 4,
 "nbformat_minor": 2,
 "cells": [
  {
   "cell_type": "code",
   "execution_count": 7,
   "metadata": {
    "tags": []
   },
   "outputs": [
    {
     "output_type": "stream",
     "name": "stdout",
     "text": "3.9.0\n"
    },
    {
     "output_type": "execute_result",
     "data": {
      "text/plain": "67968"
     },
     "metadata": {},
     "execution_count": 7
    }
   ],
   "source": [
    "from selenium import webdriver\n",
    "from selenium.webdriver.chrome.options import Options\n",
    "print(webdriver.__version__)\n",
    "PROFILE_PATH = \"C:\\\\Users\\\\kante\\\\AppData\\\\Local\\\\Google\\\\Chrome\\\\User Data2\"\n",
    "options = Options()\n",
    "options.add_argument('--user-data-dir=' + PROFILE_PATH)\n",
    "options.add_argument(\"--headless\")\n",
    "options.add_argument(\"--remote-debugging-port=9222\")\n",
    "driver = webdriver.Chrome(chrome_options=options)\n",
    "driver.get(\"https://www.youtube.com/feed/subscriptions\")\n",
    "source = driver.page_source\n",
    "open(\"seleniumtest.txt\", \"w\", encoding=\"utf-8\").write(source)\n"
   ]
  },
  {
   "cell_type": "code",
   "execution_count": null,
   "metadata": {},
   "outputs": [],
   "source": []
  }
 ]
}